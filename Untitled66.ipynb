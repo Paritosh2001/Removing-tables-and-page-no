{
 "cells": [
  {
   "cell_type": "code",
   "execution_count": null,
   "metadata": {},
   "outputs": [],
   "source": [
    "import os\n",
    "from pdf2image import convert_from_path\n",
    "\n",
    "# Path to the PDF file to be converted\n",
    "pdf_path = 'C:/Users/parit/Downloads/ETS - Practice Book for the Paper-based GRE revised General Test (2011, ETS) - libgen.li.pdf'\n",
    "\n",
    "# Convert each page of the PDF to a PNG image\n",
    "pages = convert_from_path(pdf_path)\n",
    "\n",
    "# Save each image as a separate file\n",
    "for i, page in enumerate(pages):\n",
    "    image_path = os.path.splitext(pdf_path)[0] + f'_page_{i+1}.png'\n",
    "    page.save(image_path, 'PNG')"
   ]
  },
  {
   "cell_type": "code",
   "execution_count": 2,
   "metadata": {},
   "outputs": [
    {
     "data": {
      "text/plain": [
       "-1"
      ]
     },
     "execution_count": 2,
     "metadata": {},
     "output_type": "execute_result"
    }
   ],
   "source": [
    "import cv2\n",
    "import numpy as np\n",
    "\n",
    "# Load the image\n",
    "img = cv2.imread('C:/Users/parit/Downloads/ast_sci_data_tables_sample_page_1.png')\n",
    "\n",
    "# Convert the image to grayscale\n",
    "gray = cv2.cvtColor(img, cv2.COLOR_BGR2GRAY)\n",
    "\n",
    "# Apply thresholding to the image\n",
    "thresh = cv2.threshold(gray, 0, 255, cv2.THRESH_BINARY_INV + cv2.THRESH_OTSU)[1]\n",
    "\n",
    "# Find contours in the image\n",
    "contours, hierarchy = cv2.findContours(thresh, cv2.RETR_TREE, cv2.CHAIN_APPROX_SIMPLE)\n",
    "\n",
    "# Find the largest contour (the table)\n",
    "max_area = 0\n",
    "table_contour = None\n",
    "for contour in contours:\n",
    "    area = cv2.contourArea(contour)\n",
    "    if area > max_area:\n",
    "        max_area = area\n",
    "        table_contour = contour\n",
    "\n",
    "# Create a mask of the same size as the input image\n",
    "mask = np.zeros_like(img)\n",
    "\n",
    "# Draw the contour on the mask\n",
    "cv2.drawContours(mask, [table_contour], -1, (255, 255, 255), -1)\n",
    "\n",
    "# Invert the mask\n",
    "mask_inv = cv2.bitwise_not(mask)\n",
    "\n",
    "# Use the mask to remove the table from the input image\n",
    "img_no_table = cv2.bitwise_and(img, mask_inv)\n",
    "\n",
    "# Save the result image\n",
    "cv2.imwrite('image_without_table4.jpg', img_no_table)\n",
    "\n",
    "# Display the result\n",
    "cv2.imshow('Image without table', img_no_table)\n",
    "cv2.waitKey(0)"
   ]
  },
  {
   "cell_type": "code",
   "execution_count": 6,
   "metadata": {},
   "outputs": [
    {
     "data": {
      "text/plain": [
       "True"
      ]
     },
     "execution_count": 6,
     "metadata": {},
     "output_type": "execute_result"
    }
   ],
   "source": [
    "\n",
    "\n",
    "\n",
    "\n",
    "import cv2\n",
    "import pytesseract\n",
    "\n",
    "# Load the image\n",
    "img = cv2.imread(\"image_without_table4.jpg\")\n",
    "\n",
    "# Convert the image to grayscale\n",
    "gray = cv2.cvtColor(img, cv2.COLOR_BGR2GRAY)\n",
    "\n",
    "# Apply thresholding to the image to get a binary image\n",
    "thresh = cv2.threshold(gray, 0, 255, cv2.THRESH_BINARY_INV + cv2.THRESH_OTSU)[1]\n",
    "\n",
    "# Perform text detection using Tesseract OCR\n",
    "text = pytesseract.image_to_data(thresh, output_type=pytesseract.Output.DICT)\n",
    "\n",
    "# Get the page number text boxes\n",
    "page_num_boxes = []\n",
    "for i in range(len(text['text'])):\n",
    "    if text['text'][i].isdigit() and int(text['text'][i]) > 0 and text['top'][i] > img.shape[0]*0.9:\n",
    "        page_num_boxes.append((text['left'][i], text['top'][i], text['width'][i], text['height'][i]))\n",
    "\n",
    "# Mask the page number boxes with black color\n",
    "for box in page_num_boxes:\n",
    "    cv2.rectangle(img, (box[0], box[1]), (box[0]+box[2], box[1]+box[3]), (0, 0, 0), -1)\n",
    "\n",
    "# Save the image\n",
    "cv2.imwrite(\"masked_imageA66.jpg\", img)"
   ]
  },
  {
   "cell_type": "code",
   "execution_count": 7,
   "metadata": {},
   "outputs": [
    {
     "data": {
      "text/plain": [
       "True"
      ]
     },
     "execution_count": 7,
     "metadata": {},
     "output_type": "execute_result"
    }
   ],
   "source": [
    "\n",
    "\n",
    "import cv2\n",
    "import pytesseract\n",
    "\n",
    "# Load the image\n",
    "img = cv2.imread(\"C:/Users/parit/Downloads/ETS - Practice Book for the Paper-based GRE revised General Test (2011, ETS) - libgen.li_page_92.png\")\n",
    "\n",
    "# Convert the image to grayscale\n",
    "gray = cv2.cvtColor(img, cv2.COLOR_BGR2GRAY)\n",
    "\n",
    "# Apply thresholding to the image to get a binary image\n",
    "thresh = cv2.threshold(gray, 0, 255, cv2.THRESH_BINARY_INV + cv2.THRESH_OTSU)[1]\n",
    "\n",
    "# Perform text detection using Tesseract OCR\n",
    "text = pytesseract.image_to_data(thresh, output_type=pytesseract.Output.DICT)\n",
    "\n",
    "# Get the page number text boxes\n",
    "page_num_boxes = []\n",
    "for i in range(len(text['text'])):\n",
    "    if text['text'][i].isdigit() and int(text['text'][i]) > 0 and text['top'][i] > img.shape[0]*0.9:\n",
    "        page_num_boxes.append((text['left'][i], text['top'][i], text['width'][i], text['height'][i]))\n",
    "\n",
    "# Mask the page number boxes with black color\n",
    "for box in page_num_boxes:\n",
    "    cv2.rectangle(img, (box[0], box[1]), (box[0]+box[2], box[1]+box[3]), (0, 0, 0), -1)\n",
    "\n",
    "# Save the image\n",
    "cv2.imwrite(\"masked_image77.jpg\", img)"
   ]
  },
  {
   "cell_type": "code",
   "execution_count": 8,
   "metadata": {},
   "outputs": [
    {
     "data": {
      "text/plain": [
       "True"
      ]
     },
     "execution_count": 8,
     "metadata": {},
     "output_type": "execute_result"
    }
   ],
   "source": [
    "import cv2\n",
    "import pytesseract\n",
    "\n",
    "# Load the image\n",
    "img = cv2.imread(\"C:/Users/parit/Downloads/ETS - Practice Book for the Paper-based GRE revised General Test (2011, ETS) - libgen.li_page_91.png\")\n",
    "\n",
    "# Convert the image to grayscale\n",
    "gray = cv2.cvtColor(img, cv2.COLOR_BGR2GRAY)\n",
    "\n",
    "# Apply thresholding to the image to get a binary image\n",
    "thresh = cv2.threshold(gray, 0, 255, cv2.THRESH_BINARY_INV + cv2.THRESH_OTSU)[1]\n",
    "\n",
    "# Perform text detection using Tesseract OCR\n",
    "text = pytesseract.image_to_data(thresh, output_type=pytesseract.Output.DICT)\n",
    "\n",
    "# Get the page number text boxes\n",
    "page_num_boxes = []\n",
    "for i in range(len(text['text'])):\n",
    "    if text['text'][i].isdigit() and int(text['text'][i]) > 0 and text['top'][i] > img.shape[0]*0.9:\n",
    "        page_num_boxes.append((text['left'][i], text['top'][i], text['width'][i], text['height'][i]))\n",
    "\n",
    "# Mask the page number boxes with black color\n",
    "for box in page_num_boxes:\n",
    "    cv2.rectangle(img, (box[0], box[1]), (box[0]+box[2], box[1]+box[3]), (0, 0, 0), -1)\n",
    "\n",
    "# Save the image\n",
    "cv2.imwrite(\"masked_image88.jpg\", img)\n"
   ]
  },
  {
   "cell_type": "code",
   "execution_count": 12,
   "metadata": {},
   "outputs": [
    {
     "data": {
      "text/plain": [
       "True"
      ]
     },
     "execution_count": 12,
     "metadata": {},
     "output_type": "execute_result"
    }
   ],
   "source": [
    "\n",
    "\n",
    "\n",
    "\n",
    "import cv2\n",
    "import pytesseract\n",
    "\n",
    "# Load the image\n",
    "img = cv2.imread(\"masked_image88.jpg\")\n",
    "\n",
    "# Convert the image to grayscale\n",
    "gray = cv2.cvtColor(img, cv2.COLOR_BGR2GRAY)\n",
    "\n",
    "# Apply thresholding to the image to get a binary image\n",
    "thresh = cv2.threshold(gray, 0, 255, cv2.THRESH_BINARY_INV + cv2.THRESH_OTSU)[1]\n",
    "\n",
    "# Perform text detection using Tesseract OCR\n",
    "text = pytesseract.image_to_data(thresh, output_type=pytesseract.Output.DICT)\n",
    "\n",
    "# Get the page number text boxes\n",
    "page_num_boxes = []\n",
    "for i in range(len(text['text'])):\n",
    "    if text['text'][i].isdigit() and int(text['text'][i]) > 0 and text['top'][i] > img.shape[0]*0.9:\n",
    "        page_num_boxes.append((text['left'][i], text['top'][i], text['width'][i], text['height'][i]))\n",
    "\n",
    "# Mask the page number boxes with black color\n",
    "for box in page_num_boxes:\n",
    "    cv2.rectangle(img, (box[0], box[1]), (box[0]+box[2], box[1]+box[3]), (0, 0, 0), -1)\n",
    "\n",
    "# Save the image\n",
    "cv2.imwrite(\"masked_image1111.jpg\", img)\n",
    "\n"
   ]
  },
  {
   "cell_type": "code",
   "execution_count": 14,
   "metadata": {},
   "outputs": [
    {
     "data": {
      "text/plain": [
       "True"
      ]
     },
     "execution_count": 14,
     "metadata": {},
     "output_type": "execute_result"
    }
   ],
   "source": [
    "import cv2\n",
    "import pytesseract\n",
    "\n",
    "# Load the image\n",
    "img = cv2.imread(\"masked_image1111.jpg\")\n",
    "\n",
    "# Convert the image to grayscale\n",
    "gray = cv2.cvtColor(img, cv2.COLOR_BGR2GRAY)\n",
    "\n",
    "# Apply thresholding to the image to get a binary image\n",
    "thresh = cv2.threshold(gray, 0, 255, cv2.THRESH_BINARY_INV + cv2.THRESH_OTSU)[1]\n",
    "\n",
    "# Perform text detection using Tesseract OCR\n",
    "text = pytesseract.image_to_data(thresh, output_type=pytesseract.Output.DICT)\n",
    "\n",
    "# Get the page number text boxes\n",
    "page_num_boxes = []\n",
    "for i in range(len(text['text'])):\n",
    "    if text['text'][i].isdigit() and int(text['text'][i]) > 0 and text['top'][i] > img.shape[0]*0.9:\n",
    "        page_num_boxes.append((text['left'][i], text['top'][i], text['width'][i], text['height'][i]))\n",
    "\n",
    "# Get the copyright text box\n",
    "copyright_box = None\n",
    "for i in range(len(text['text'])):\n",
    "    if \"©\" in text['text'][i]:\n",
    "        copyright_box = (text['left'][i], text['top'][i], text['width'][i], text['height'][i])\n",
    "\n",
    "# Mask the page number and copyright boxes with black color\n",
    "for box in page_num_boxes:\n",
    "    cv2.rectangle(img, (box[0], box[1]), (box[0]+box[2], box[1]+box[3]), (0, 0, 0), -1)\n",
    "\n",
    "if copyright_box is not None:\n",
    "    cv2.rectangle(img, (copyright_box[0], copyright_box[1]),\n",
    "                  (copyright_box[0]+copyright_box[2],\n",
    "                   copyright_box[1]+copyright_box[3]), (0, 0, 0), -1)\n",
    "\n",
    "# Save the image\n",
    "cv2.imwrite(\"masked_image1222.png\", img)\n"
   ]
  },
  {
   "cell_type": "code",
   "execution_count": null,
   "metadata": {},
   "outputs": [],
   "source": []
  }
 ],
 "metadata": {
  "kernelspec": {
   "display_name": "Python 3",
   "language": "python",
   "name": "python3"
  },
  "language_info": {
   "codemirror_mode": {
    "name": "ipython",
    "version": 3
   },
   "file_extension": ".py",
   "mimetype": "text/x-python",
   "name": "python",
   "nbconvert_exporter": "python",
   "pygments_lexer": "ipython3",
   "version": "3.8.3"
  }
 },
 "nbformat": 4,
 "nbformat_minor": 4
}
